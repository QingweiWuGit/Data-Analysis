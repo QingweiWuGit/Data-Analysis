{
 "cells": [
  {
   "cell_type": "code",
   "execution_count": 1,
   "id": "32e7a70b-91c2-4cf0-befe-0bb126c930b5",
   "metadata": {
    "tags": []
   },
   "outputs": [],
   "source": [
    "import glob\n",
    "import pandas as pd\n",
    "import numpy as np"
   ]
  },
  {
   "cell_type": "markdown",
   "id": "1bd667d9-1784-47cf-b9e5-89f4953d1bac",
   "metadata": {},
   "source": [
    "在EDA中，我们主要观察特征的类型、总数量、非重复值数量、最大值、最小值、平均值、标准差、缺失值数量、缺失值占比、异常值数量和异常值占比。\n",
    "\n",
    "在EDA中，我们对特征进行初筛，去除缺失值占比过高（>0.9）、非重复值数量过少（<= 1）以及字符型特征。\n",
    "\n",
    "对于异常值，我们利用3sigma原理来判断。"
   ]
  },
  {
   "cell_type": "code",
   "execution_count": 3,
   "id": "ae82e36d-a8a5-4c86-9328-3ac538a540b5",
   "metadata": {
    "tags": []
   },
   "outputs": [],
   "source": [
    "def EDA_series(data):\n",
    "    \"\"\"\n",
    "    input:\n",
    "    data: series, 原始数据\n",
    "    return:\n",
    "    result: series, 原始数据EDA结果\n",
    "    \"\"\"\n",
    "    result = {}\n",
    "    result['count'] = len(data)\n",
    "    result['missing_count'] = data.isnull().sum()\n",
    "    result['missing_rate'] = result['missing_count']/ result['count']\n",
    "    result['count_unqiue'] = len(data.value_counts(normalize=True))\n",
    "    data.dropna(inplace=True)\n",
    "    if data.dtype == 'object':\n",
    "        result['type'] = 'categorical'\n",
    "    else:\n",
    "        result['type'] = 'numeric'\n",
    "        result['max'] = data.max()\n",
    "        result['min'] = data.min()\n",
    "        result['mean'] = data.mean()\n",
    "        result['std'] = data.std()\n",
    "        zscore = (data - data.mean())/data.std()\n",
    "        result['outlier_count'] = (zscore.abs() > 6).sum()\n",
    "        result['outlier_rate'] = result['outlier_count'] / result['count']\n",
    "    if result['count_unique'] <= 2:\n",
    "        result['type'] = binary\n",
    "    \n",
    "    result = pd.Series(result)\n",
    "    return result"
   ]
  },
  {
   "cell_type": "code",
   "execution_count": 4,
   "id": "2bc4a584-b0f3-450e-9da1-c59ab823383e",
   "metadata": {
    "tags": []
   },
   "outputs": [],
   "source": [
    "def EDA_df(data):\n",
    "    \"\"\"\n",
    "    input:\n",
    "    data: dataframe, 原始数据\n",
    "    return:\n",
    "    result: dataframe, 原始数据EDA结果, index为特征名\n",
    "    \"\"\"\n",
    "    result = []\n",
    "    for column in data.columns.tolist():\n",
    "        tmp = EDA_series(data[column])\n",
    "        tmp.name = column\n",
    "        result.append(tmp)\n",
    "    result = pd.concat(result, axis=1).T\n",
    "    columns_result = ['type', 'count', 'count_unique', 'max', 'min', 'mean', 'std', 'missing_count', 'missing_rate', 'outlier_count', 'outlier_rate']\n",
    "    result = result[columns_result]\n",
    "    return result"
   ]
  },
  {
   "cell_type": "code",
   "execution_count": null,
   "id": "1d564f68-38df-4c3b-aaec-d3065d774beb",
   "metadata": {},
   "outputs": [],
   "source": []
  }
 ],
 "metadata": {
  "kernelspec": {
   "display_name": "Python 3 (ipykernel)",
   "language": "python",
   "name": "python3"
  },
  "language_info": {
   "codemirror_mode": {
    "name": "ipython",
    "version": 3
   },
   "file_extension": ".py",
   "mimetype": "text/x-python",
   "name": "python",
   "nbconvert_exporter": "python",
   "pygments_lexer": "ipython3",
   "version": "3.11.4"
  }
 },
 "nbformat": 4,
 "nbformat_minor": 5
}
